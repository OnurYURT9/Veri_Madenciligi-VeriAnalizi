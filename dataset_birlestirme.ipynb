{
 "cells": [
  {
   "cell_type": "code",
   "execution_count": 1,
   "id": "961ee652",
   "metadata": {},
   "outputs": [],
   "source": [
    "import pandas as pd\n",
    "import numpy as np"
   ]
  },
  {
   "cell_type": "code",
   "execution_count": 6,
   "id": "4e657309",
   "metadata": {},
   "outputs": [
    {
     "ename": "FileNotFoundError",
     "evalue": "[Errno 2] No such file or directory: 'Data_User_Modeling_Dataset _birlestirme.xls'",
     "output_type": "error",
     "traceback": [
      "\u001b[1;31m---------------------------------------------------------------------------\u001b[0m",
      "\u001b[1;31mFileNotFoundError\u001b[0m                         Traceback (most recent call last)",
      "\u001b[1;32m<ipython-input-6-1bdc88a00384>\u001b[0m in \u001b[0;36m<module>\u001b[1;34m\u001b[0m\n\u001b[1;32m----> 1\u001b[1;33m \u001b[0mtrainDS\u001b[0m \u001b[1;33m=\u001b[0m \u001b[0mpd\u001b[0m\u001b[1;33m.\u001b[0m\u001b[0mread_excel\u001b[0m\u001b[1;33m(\u001b[0m\u001b[1;34m'Data_User_Modeling_Dataset _birlestirme.xls'\u001b[0m\u001b[1;33m,\u001b[0m\u001b[0msheet_name\u001b[0m\u001b[1;33m=\u001b[0m\u001b[1;34m'Training_Data'\u001b[0m\u001b[1;33m,\u001b[0m\u001b[0mindex_col\u001b[0m\u001b[1;33m=\u001b[0m\u001b[1;32mNone\u001b[0m\u001b[1;33m,\u001b[0m\u001b[0musecols\u001b[0m\u001b[1;33m=\u001b[0m\u001b[1;33m[\u001b[0m\u001b[1;36m0\u001b[0m\u001b[1;33m,\u001b[0m\u001b[1;36m1\u001b[0m\u001b[1;33m,\u001b[0m\u001b[1;36m2\u001b[0m\u001b[1;33m,\u001b[0m\u001b[1;36m3\u001b[0m\u001b[1;33m,\u001b[0m\u001b[1;36m4\u001b[0m\u001b[1;33m]\u001b[0m\u001b[1;33m)\u001b[0m\u001b[1;33m\u001b[0m\u001b[1;33m\u001b[0m\u001b[0m\n\u001b[0m\u001b[0;32m      2\u001b[0m \u001b[0mprint\u001b[0m\u001b[1;33m(\u001b[0m\u001b[0mtrainDS\u001b[0m\u001b[1;33m)\u001b[0m\u001b[1;33m\u001b[0m\u001b[1;33m\u001b[0m\u001b[0m\n\u001b[0;32m      3\u001b[0m \u001b[0mtrainDS2\u001b[0m \u001b[1;33m=\u001b[0m \u001b[0mpd\u001b[0m\u001b[1;33m.\u001b[0m\u001b[0mread_excel\u001b[0m\u001b[1;33m(\u001b[0m\u001b[1;34m'Data_User_Modeling_Dataset _birlestirme.xls'\u001b[0m\u001b[1;33m,\u001b[0m\u001b[0msheet_name\u001b[0m\u001b[1;33m=\u001b[0m\u001b[1;34m'Training_Data'\u001b[0m\u001b[1;33m,\u001b[0m\u001b[0mindex_col\u001b[0m\u001b[1;33m=\u001b[0m\u001b[1;32mNone\u001b[0m\u001b[1;33m,\u001b[0m\u001b[0musecols\u001b[0m\u001b[1;33m=\u001b[0m\u001b[1;33m[\u001b[0m\u001b[1;36m0\u001b[0m\u001b[1;33m,\u001b[0m\u001b[1;36m1\u001b[0m\u001b[1;33m]\u001b[0m\u001b[1;33m)\u001b[0m\u001b[1;33m\u001b[0m\u001b[1;33m\u001b[0m\u001b[0m\n\u001b[0;32m      4\u001b[0m \u001b[0mprint\u001b[0m\u001b[1;33m(\u001b[0m\u001b[0mtrainDS2\u001b[0m\u001b[1;33m)\u001b[0m\u001b[1;33m\u001b[0m\u001b[1;33m\u001b[0m\u001b[0m\n",
      "\u001b[1;32m~\\anaconda\\lib\\site-packages\\pandas\\util\\_decorators.py\u001b[0m in \u001b[0;36mwrapper\u001b[1;34m(*args, **kwargs)\u001b[0m\n\u001b[0;32m    297\u001b[0m                 )\n\u001b[0;32m    298\u001b[0m                 \u001b[0mwarnings\u001b[0m\u001b[1;33m.\u001b[0m\u001b[0mwarn\u001b[0m\u001b[1;33m(\u001b[0m\u001b[0mmsg\u001b[0m\u001b[1;33m,\u001b[0m \u001b[0mFutureWarning\u001b[0m\u001b[1;33m,\u001b[0m \u001b[0mstacklevel\u001b[0m\u001b[1;33m=\u001b[0m\u001b[0mstacklevel\u001b[0m\u001b[1;33m)\u001b[0m\u001b[1;33m\u001b[0m\u001b[1;33m\u001b[0m\u001b[0m\n\u001b[1;32m--> 299\u001b[1;33m             \u001b[1;32mreturn\u001b[0m \u001b[0mfunc\u001b[0m\u001b[1;33m(\u001b[0m\u001b[1;33m*\u001b[0m\u001b[0margs\u001b[0m\u001b[1;33m,\u001b[0m \u001b[1;33m**\u001b[0m\u001b[0mkwargs\u001b[0m\u001b[1;33m)\u001b[0m\u001b[1;33m\u001b[0m\u001b[1;33m\u001b[0m\u001b[0m\n\u001b[0m\u001b[0;32m    300\u001b[0m \u001b[1;33m\u001b[0m\u001b[0m\n\u001b[0;32m    301\u001b[0m         \u001b[1;32mreturn\u001b[0m \u001b[0mwrapper\u001b[0m\u001b[1;33m\u001b[0m\u001b[1;33m\u001b[0m\u001b[0m\n",
      "\u001b[1;32m~\\anaconda\\lib\\site-packages\\pandas\\io\\excel\\_base.py\u001b[0m in \u001b[0;36mread_excel\u001b[1;34m(io, sheet_name, header, names, index_col, usecols, squeeze, dtype, engine, converters, true_values, false_values, skiprows, nrows, na_values, keep_default_na, na_filter, verbose, parse_dates, date_parser, thousands, comment, skipfooter, convert_float, mangle_dupe_cols, storage_options)\u001b[0m\n\u001b[0;32m    334\u001b[0m     \u001b[1;32mif\u001b[0m \u001b[1;32mnot\u001b[0m \u001b[0misinstance\u001b[0m\u001b[1;33m(\u001b[0m\u001b[0mio\u001b[0m\u001b[1;33m,\u001b[0m \u001b[0mExcelFile\u001b[0m\u001b[1;33m)\u001b[0m\u001b[1;33m:\u001b[0m\u001b[1;33m\u001b[0m\u001b[1;33m\u001b[0m\u001b[0m\n\u001b[0;32m    335\u001b[0m         \u001b[0mshould_close\u001b[0m \u001b[1;33m=\u001b[0m \u001b[1;32mTrue\u001b[0m\u001b[1;33m\u001b[0m\u001b[1;33m\u001b[0m\u001b[0m\n\u001b[1;32m--> 336\u001b[1;33m         \u001b[0mio\u001b[0m \u001b[1;33m=\u001b[0m \u001b[0mExcelFile\u001b[0m\u001b[1;33m(\u001b[0m\u001b[0mio\u001b[0m\u001b[1;33m,\u001b[0m \u001b[0mstorage_options\u001b[0m\u001b[1;33m=\u001b[0m\u001b[0mstorage_options\u001b[0m\u001b[1;33m,\u001b[0m \u001b[0mengine\u001b[0m\u001b[1;33m=\u001b[0m\u001b[0mengine\u001b[0m\u001b[1;33m)\u001b[0m\u001b[1;33m\u001b[0m\u001b[1;33m\u001b[0m\u001b[0m\n\u001b[0m\u001b[0;32m    337\u001b[0m     \u001b[1;32melif\u001b[0m \u001b[0mengine\u001b[0m \u001b[1;32mand\u001b[0m \u001b[0mengine\u001b[0m \u001b[1;33m!=\u001b[0m \u001b[0mio\u001b[0m\u001b[1;33m.\u001b[0m\u001b[0mengine\u001b[0m\u001b[1;33m:\u001b[0m\u001b[1;33m\u001b[0m\u001b[1;33m\u001b[0m\u001b[0m\n\u001b[0;32m    338\u001b[0m         raise ValueError(\n",
      "\u001b[1;32m~\\anaconda\\lib\\site-packages\\pandas\\io\\excel\\_base.py\u001b[0m in \u001b[0;36m__init__\u001b[1;34m(self, path_or_buffer, engine, storage_options)\u001b[0m\n\u001b[0;32m   1069\u001b[0m                 \u001b[0mext\u001b[0m \u001b[1;33m=\u001b[0m \u001b[1;34m\"xls\"\u001b[0m\u001b[1;33m\u001b[0m\u001b[1;33m\u001b[0m\u001b[0m\n\u001b[0;32m   1070\u001b[0m             \u001b[1;32melse\u001b[0m\u001b[1;33m:\u001b[0m\u001b[1;33m\u001b[0m\u001b[1;33m\u001b[0m\u001b[0m\n\u001b[1;32m-> 1071\u001b[1;33m                 ext = inspect_excel_format(\n\u001b[0m\u001b[0;32m   1072\u001b[0m                     \u001b[0mcontent\u001b[0m\u001b[1;33m=\u001b[0m\u001b[0mpath_or_buffer\u001b[0m\u001b[1;33m,\u001b[0m \u001b[0mstorage_options\u001b[0m\u001b[1;33m=\u001b[0m\u001b[0mstorage_options\u001b[0m\u001b[1;33m\u001b[0m\u001b[1;33m\u001b[0m\u001b[0m\n\u001b[0;32m   1073\u001b[0m                 )\n",
      "\u001b[1;32m~\\anaconda\\lib\\site-packages\\pandas\\io\\excel\\_base.py\u001b[0m in \u001b[0;36minspect_excel_format\u001b[1;34m(path, content, storage_options)\u001b[0m\n\u001b[0;32m    947\u001b[0m     \u001b[1;32massert\u001b[0m \u001b[0mcontent_or_path\u001b[0m \u001b[1;32mis\u001b[0m \u001b[1;32mnot\u001b[0m \u001b[1;32mNone\u001b[0m\u001b[1;33m\u001b[0m\u001b[1;33m\u001b[0m\u001b[0m\n\u001b[0;32m    948\u001b[0m \u001b[1;33m\u001b[0m\u001b[0m\n\u001b[1;32m--> 949\u001b[1;33m     with get_handle(\n\u001b[0m\u001b[0;32m    950\u001b[0m         \u001b[0mcontent_or_path\u001b[0m\u001b[1;33m,\u001b[0m \u001b[1;34m\"rb\"\u001b[0m\u001b[1;33m,\u001b[0m \u001b[0mstorage_options\u001b[0m\u001b[1;33m=\u001b[0m\u001b[0mstorage_options\u001b[0m\u001b[1;33m,\u001b[0m \u001b[0mis_text\u001b[0m\u001b[1;33m=\u001b[0m\u001b[1;32mFalse\u001b[0m\u001b[1;33m\u001b[0m\u001b[1;33m\u001b[0m\u001b[0m\n\u001b[0;32m    951\u001b[0m     ) as handle:\n",
      "\u001b[1;32m~\\anaconda\\lib\\site-packages\\pandas\\io\\common.py\u001b[0m in \u001b[0;36mget_handle\u001b[1;34m(path_or_buf, mode, encoding, compression, memory_map, is_text, errors, storage_options)\u001b[0m\n\u001b[0;32m    649\u001b[0m         \u001b[1;32melse\u001b[0m\u001b[1;33m:\u001b[0m\u001b[1;33m\u001b[0m\u001b[1;33m\u001b[0m\u001b[0m\n\u001b[0;32m    650\u001b[0m             \u001b[1;31m# Binary mode\u001b[0m\u001b[1;33m\u001b[0m\u001b[1;33m\u001b[0m\u001b[1;33m\u001b[0m\u001b[0m\n\u001b[1;32m--> 651\u001b[1;33m             \u001b[0mhandle\u001b[0m \u001b[1;33m=\u001b[0m \u001b[0mopen\u001b[0m\u001b[1;33m(\u001b[0m\u001b[0mhandle\u001b[0m\u001b[1;33m,\u001b[0m \u001b[0mioargs\u001b[0m\u001b[1;33m.\u001b[0m\u001b[0mmode\u001b[0m\u001b[1;33m)\u001b[0m\u001b[1;33m\u001b[0m\u001b[1;33m\u001b[0m\u001b[0m\n\u001b[0m\u001b[0;32m    652\u001b[0m         \u001b[0mhandles\u001b[0m\u001b[1;33m.\u001b[0m\u001b[0mappend\u001b[0m\u001b[1;33m(\u001b[0m\u001b[0mhandle\u001b[0m\u001b[1;33m)\u001b[0m\u001b[1;33m\u001b[0m\u001b[1;33m\u001b[0m\u001b[0m\n\u001b[0;32m    653\u001b[0m \u001b[1;33m\u001b[0m\u001b[0m\n",
      "\u001b[1;31mFileNotFoundError\u001b[0m: [Errno 2] No such file or directory: 'Data_User_Modeling_Dataset _birlestirme.xls'"
     ]
    }
   ],
   "source": [
    "trainDS = pd.read_excel('Data_User_Modeling_Dataset _birlestirme.xls',sheet_name='Training_Data',index_col=None,usecols=[0,1,2,3,4])\n",
    "print(trainDS)\n",
    "trainDS2 = pd.read_excel('Data_User_Modeling_Dataset _birlestirme.xls',sheet_name='Training_Data',index_col=None,usecols=[0,1])\n",
    "print(trainDS2)"
   ]
  },
  {
   "cell_type": "code",
   "execution_count": 5,
   "id": "56aeaa94",
   "metadata": {},
   "outputs": [
    {
     "name": "stdout",
     "output_type": "stream",
     "text": [
      "    STG   SCG   STR   LPR   PEG\n",
      "0  0.00  0.00  0.00  0.00  0.00\n",
      "1  0.08  0.08  0.10  0.24  0.90\n",
      "2  0.06  0.06  0.05  0.25  0.33\n",
      "3  0.10   NaN  0.15  0.65  0.30\n",
      "4  0.08  0.08  0.08  0.98  0.24\n",
      "    STG   SCG\n",
      "0  0.00  0.00\n",
      "1  0.08  0.08\n",
      "2  0.06  0.06\n",
      "3  0.10   NaN\n",
      "4  0.08  0.08\n"
     ]
    }
   ],
   "source": [
    "print(trainDS.head())\n",
    "print(trainDS2.head())"
   ]
  },
  {
   "cell_type": "code",
   "execution_count": 7,
   "id": "465a2263",
   "metadata": {},
   "outputs": [
    {
     "name": "stdout",
     "output_type": "stream",
     "text": [
      "      ID   STG   SCG   STR   LPR\n",
      "0      1  0.00  0.00  0.00  0.00\n",
      "1      2  0.08  0.08  0.10  0.24\n",
      "2      3  0.06  0.06  0.05  0.25\n",
      "3      4  0.10  0.10  0.15  0.65\n",
      "4      5  0.08  0.08  0.08  0.98\n",
      "..   ...   ...   ...   ...   ...\n",
      "253  254  0.61  0.78  0.69  0.92\n",
      "254  255  0.78  0.61  0.71  0.19\n",
      "255  256  0.54  0.82  0.71  0.29\n",
      "256  257  0.50  0.75  0.81  0.61\n",
      "257  258  0.66  0.90  0.76  0.87\n",
      "\n",
      "[258 rows x 5 columns]\n",
      "      ID   STG\n",
      "0      1  0.00\n",
      "1      2  0.08\n",
      "2      3  0.06\n",
      "3      4  0.10\n",
      "4      5  0.08\n",
      "..   ...   ...\n",
      "253  254  0.61\n",
      "254  255  0.78\n",
      "255  256  0.54\n",
      "256  257  0.50\n",
      "257  258  0.66\n",
      "\n",
      "[258 rows x 2 columns]\n"
     ]
    }
   ],
   "source": [
    "trainDS = pd.read_excel('Data_User_Modeling_Dataset_birlestirme.xls',sheet_name='Training_Data',index_col=None,usecols=[0,1,2,3,4])\n",
    "print(trainDS)\n",
    "trainDS2 = pd.read_excel('Data_User_Modeling_Dataset_birlestirme.xls',sheet_name='Training_Data',index_col=None,usecols=[0,1])\n",
    "print(trainDS2)"
   ]
  },
  {
   "cell_type": "code",
   "execution_count": 8,
   "id": "d394762a",
   "metadata": {},
   "outputs": [
    {
     "name": "stdout",
     "output_type": "stream",
     "text": [
      "   ID   STG   SCG   STR   LPR\n",
      "0   1  0.00  0.00  0.00  0.00\n",
      "1   2  0.08  0.08  0.10  0.24\n",
      "2   3  0.06  0.06  0.05  0.25\n",
      "3   4  0.10  0.10  0.15  0.65\n",
      "4   5  0.08  0.08  0.08  0.98\n",
      "   ID   STG\n",
      "0   1  0.00\n",
      "1   2  0.08\n",
      "2   3  0.06\n",
      "3   4  0.10\n",
      "4   5  0.08\n"
     ]
    }
   ],
   "source": [
    "print(trainDS.head())\n",
    "print(trainDS2.head())"
   ]
  },
  {
   "cell_type": "code",
   "execution_count": 9,
   "id": "12746064",
   "metadata": {},
   "outputs": [
    {
     "name": "stdout",
     "output_type": "stream",
     "text": [
      "      ID   STG   SCG   STR   LPR\n",
      "0      1  0.00  0.00  0.00  0.00\n",
      "1      2  0.08  0.08  0.10  0.24\n",
      "2      3  0.06  0.06  0.05  0.25\n",
      "3      4  0.10  0.10  0.15  0.65\n",
      "4      5  0.08  0.08  0.08  0.98\n",
      "..   ...   ...   ...   ...   ...\n",
      "253  254  0.61   NaN   NaN   NaN\n",
      "254  255  0.78   NaN   NaN   NaN\n",
      "255  256  0.54   NaN   NaN   NaN\n",
      "256  257  0.50   NaN   NaN   NaN\n",
      "257  258  0.66   NaN   NaN   NaN\n",
      "\n",
      "[516 rows x 5 columns]\n"
     ]
    }
   ],
   "source": [
    "birlestir1=pd.concat([trainDS,trainDS2],axis=0)\n",
    "print(birlestir1)"
   ]
  },
  {
   "cell_type": "code",
   "execution_count": 11,
   "id": "65ced91f",
   "metadata": {},
   "outputs": [
    {
     "name": "stdout",
     "output_type": "stream",
     "text": [
      "      ID  STG_x   SCG   STR   LPR  STG_y\n",
      "0      1   0.00  0.00  0.00  0.00   0.00\n",
      "1      2   0.08  0.08  0.10  0.24   0.08\n",
      "2      3   0.06  0.06  0.05  0.25   0.06\n",
      "3      4   0.10  0.10  0.15  0.65   0.10\n",
      "4      5   0.08  0.08  0.08  0.98   0.08\n",
      "..   ...    ...   ...   ...   ...    ...\n",
      "253  254   0.61  0.78  0.69  0.92   0.61\n",
      "254  255   0.78  0.61  0.71  0.19   0.78\n",
      "255  256   0.54  0.82  0.71  0.29   0.54\n",
      "256  257   0.50  0.75  0.81  0.61   0.50\n",
      "257  258   0.66  0.90  0.76  0.87   0.66\n",
      "\n",
      "[258 rows x 6 columns]\n"
     ]
    }
   ],
   "source": [
    "birlestir2=pd.merge(trainDS,trainDS2,on=\"ID\",how=\"left\")\n",
    "print(birlestir2)"
   ]
  },
  {
   "cell_type": "code",
   "execution_count": null,
   "id": "fae3cadf",
   "metadata": {},
   "outputs": [],
   "source": [
    "testDS = pd.read_excel('Data_User_Modeling_Dataset_birlestirme.xls',\n",
    "                      sheet_name='Test_Data',\n",
    "                      index_col=None, )"
   ]
  }
 ],
 "metadata": {
  "kernelspec": {
   "display_name": "Python 3",
   "language": "python",
   "name": "python3"
  },
  "language_info": {
   "codemirror_mode": {
    "name": "ipython",
    "version": 3
   },
   "file_extension": ".py",
   "mimetype": "text/x-python",
   "name": "python",
   "nbconvert_exporter": "python",
   "pygments_lexer": "ipython3",
   "version": "3.8.8"
  }
 },
 "nbformat": 4,
 "nbformat_minor": 5
}

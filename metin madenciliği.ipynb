{
 "cells": [
  {
   "cell_type": "code",
   "execution_count": 5,
   "id": "4854f5e0",
   "metadata": {},
   "outputs": [],
   "source": [
    "import pandas as pd\n",
    "data = pd.read_csv(\"a.txt\",encoding='utf-8')"
   ]
  },
  {
   "cell_type": "code",
   "execution_count": 6,
   "id": "719c119b",
   "metadata": {},
   "outputs": [
    {
     "data": {
      "text/html": [
       "<div>\n",
       "<style scoped>\n",
       "    .dataframe tbody tr th:only-of-type {\n",
       "        vertical-align: middle;\n",
       "    }\n",
       "\n",
       "    .dataframe tbody tr th {\n",
       "        vertical-align: top;\n",
       "    }\n",
       "\n",
       "    .dataframe thead th {\n",
       "        text-align: right;\n",
       "    }\n",
       "</style>\n",
       "<table border=\"1\" class=\"dataframe\">\n",
       "  <thead>\n",
       "    <tr style=\"text-align: right;\">\n",
       "      <th></th>\n",
       "      <th>Sentence</th>\n",
       "      <th>NegPos</th>\n",
       "    </tr>\n",
       "  </thead>\n",
       "  <tbody>\n",
       "    <tr>\n",
       "      <th>0</th>\n",
       "      <td>Ürünü kargo teslim süresi içerisinde teslim al...</td>\n",
       "      <td>0</td>\n",
       "    </tr>\n",
       "    <tr>\n",
       "      <th>1</th>\n",
       "      <td>Elime ulaştığı ilk gün kullanmaya başladım bir...</td>\n",
       "      <td>0</td>\n",
       "    </tr>\n",
       "    <tr>\n",
       "      <th>2</th>\n",
       "      <td>İncecik bir ssd disk a3 zarf içerisine konur m...</td>\n",
       "      <td>0</td>\n",
       "    </tr>\n",
       "    <tr>\n",
       "      <th>3</th>\n",
       "      <td>İlanda ürün korea yazıyor gelen ürün cin malı ...</td>\n",
       "      <td>0</td>\n",
       "    </tr>\n",
       "    <tr>\n",
       "      <th>4</th>\n",
       "      <td>Büyük hevesle almama rağmen ürün bozuk çıktı.....</td>\n",
       "      <td>0</td>\n",
       "    </tr>\n",
       "    <tr>\n",
       "      <th>5</th>\n",
       "      <td>Fiyat performans ve güncel sayılabilecek işlet...</td>\n",
       "      <td>1</td>\n",
       "    </tr>\n",
       "    <tr>\n",
       "      <th>6</th>\n",
       "      <td>Güzel fp ürünü çok memnun kaldım tskler</td>\n",
       "      <td>1</td>\n",
       "    </tr>\n",
       "    <tr>\n",
       "      <th>7</th>\n",
       "      <td>Macbook Pro mid. 2012 bilgisayarım için aldım....</td>\n",
       "      <td>1</td>\n",
       "    </tr>\n",
       "    <tr>\n",
       "      <th>8</th>\n",
       "      <td>Windows10 sıfırdan yüklemesi 1dk sürdü pc açıl...</td>\n",
       "      <td>1</td>\n",
       "    </tr>\n",
       "    <tr>\n",
       "      <th>9</th>\n",
       "      <td>Bilgisayar şuan aldığımdan 5 kat daha hızlı. A...</td>\n",
       "      <td>1</td>\n",
       "    </tr>\n",
       "  </tbody>\n",
       "</table>\n",
       "</div>"
      ],
      "text/plain": [
       "                                            Sentence  NegPos\n",
       "0  Ürünü kargo teslim süresi içerisinde teslim al...       0\n",
       "1  Elime ulaştığı ilk gün kullanmaya başladım bir...       0\n",
       "2  İncecik bir ssd disk a3 zarf içerisine konur m...       0\n",
       "3  İlanda ürün korea yazıyor gelen ürün cin malı ...       0\n",
       "4  Büyük hevesle almama rağmen ürün bozuk çıktı.....       0\n",
       "5  Fiyat performans ve güncel sayılabilecek işlet...       1\n",
       "6            Güzel fp ürünü çok memnun kaldım tskler       1\n",
       "7  Macbook Pro mid. 2012 bilgisayarım için aldım....       1\n",
       "8  Windows10 sıfırdan yüklemesi 1dk sürdü pc açıl...       1\n",
       "9  Bilgisayar şuan aldığımdan 5 kat daha hızlı. A...       1"
      ]
     },
     "execution_count": 6,
     "metadata": {},
     "output_type": "execute_result"
    }
   ],
   "source": [
    "data"
   ]
  },
  {
   "cell_type": "code",
   "execution_count": 7,
   "id": "cefe7063",
   "metadata": {},
   "outputs": [
    {
     "data": {
      "text/plain": [
       "['Ürünü kargo teslim süresi içerisinde teslim aldım. Aldığım ürün ekranin sağ ve sol iki taratan yukarıdan aşağıya doğru ince ince beyaz noktalar çizgi halinde. Bundan ötürü memnun kalmadım ürünü iade edip değiştirilmesini istiyorum.',\n",
       " 'Elime ulaştığı ilk gün kullanmaya başladım bir kaç saat içinde alet kapandı ve açılmadı. Amazona olan güvenim sarsıldı..',\n",
       " 'İncecik bir ssd disk a3 zarf içerisine konur mu? İlk defa böyle birşey gördüm. Cihaz ezilmiş ve yamulmuş halde geldi.',\n",
       " 'İlanda ürün korea yazıyor gelen ürün cin malı yazıyor ürün hiç çalışmadı yani arızalı çıktı geri iade edeceğim',\n",
       " 'Büyük hevesle almama rağmen ürün bozuk çıktı..iade edilmesine rağmen param hala yatmadı',\n",
       " 'Fiyat performans ve güncel sayılabilecek işletim sistemi ile güzel tablet.',\n",
       " 'Güzel fp ürünü çok memnun kaldım tskler',\n",
       " 'Macbook Pro mid. 2012 bilgisayarım için aldım. Bilgisayarımın açılış ve kullanım hızı oldukça arttı. Ürün gerçekten çok kaliteli. Piyasadaki en iyi fiyatı sunan Amazon.com.tr ye teşekkürler.',\n",
       " 'Windows10 sıfırdan yüklemesi 1dk sürdü pc açılısı 1 sn sürüyor varın hızını siz hesap edin. 250gb yerine 500 gb alınabilir',\n",
       " 'Bilgisayar şuan aldığımdan 5 kat daha hızlı. Ayrıyeten PC den çıkan harddiskiniz için harddisk kutusu alıp takın harici olarak taşıyın. Veya CD rom yerine şuanki harddiskinizi takıp ikisini de kullanabilirsiniz.']"
      ]
     },
     "execution_count": 7,
     "metadata": {},
     "output_type": "execute_result"
    }
   ],
   "source": [
    "cumle= data.iloc[:,0]\n",
    "cumle = [doc for doc in data.iloc[:,0]] #cümleleri grupladı\n",
    "cumle"
   ]
  },
  {
   "cell_type": "code",
   "execution_count": 8,
   "id": "69f4e022",
   "metadata": {},
   "outputs": [
    {
     "data": {
      "text/plain": [
       "[0, 0, 0, 0, 0, 1, 1, 1, 1, 1]"
      ]
     },
     "execution_count": 8,
     "metadata": {},
     "output_type": "execute_result"
    }
   ],
   "source": [
    "#sinif= data.iloc[:,0]\n",
    "sinif = [doc for doc in data.iloc[:,1]] #sonuc kısmını sınfladı\n",
    "sinif"
   ]
  },
  {
   "cell_type": "code",
   "execution_count": 9,
   "id": "59234d93",
   "metadata": {},
   "outputs": [],
   "source": [
    "from sklearn.feature_extraction.text import TfidfVectorizer"
   ]
  },
  {
   "cell_type": "code",
   "execution_count": 10,
   "id": "88368a25",
   "metadata": {},
   "outputs": [],
   "source": [
    "vektorzier = TfidfVectorizer(analyzer='word',lowercase=True)"
   ]
  },
  {
   "cell_type": "code",
   "execution_count": 11,
   "id": "1f7cc719",
   "metadata": {},
   "outputs": [],
   "source": [
    "train = vektorzier.fit_transform(cumle)"
   ]
  },
  {
   "cell_type": "code",
   "execution_count": 12,
   "id": "10978fe9",
   "metadata": {
    "scrolled": true
   },
   "outputs": [
    {
     "data": {
      "text/plain": [
       "array([[0.        , 0.        , 0.        , ..., 0.28463598, 0.        ,\n",
       "        0.        ],\n",
       "       [0.        , 0.        , 0.        , ..., 0.        , 0.        ,\n",
       "        0.        ],\n",
       "       [0.        , 0.        , 0.        , ..., 0.        , 0.        ,\n",
       "        0.        ],\n",
       "       ...,\n",
       "       [0.        , 0.19627544, 0.        , ..., 0.        , 0.        ,\n",
       "        0.        ],\n",
       "       [0.23283969, 0.        , 0.23283969, ..., 0.        , 0.        ,\n",
       "        0.        ],\n",
       "       [0.        , 0.        , 0.        , ..., 0.        , 0.18841794,\n",
       "        0.18841794]])"
      ]
     },
     "execution_count": 12,
     "metadata": {},
     "output_type": "execute_result"
    }
   ],
   "source": [
    "train.toarray()"
   ]
  },
  {
   "cell_type": "code",
   "execution_count": 13,
   "id": "19ba885e",
   "metadata": {},
   "outputs": [],
   "source": [
    "from sklearn.naive_bayes import GaussianNB\n",
    "clf = GaussianNB()"
   ]
  },
  {
   "cell_type": "code",
   "execution_count": 14,
   "id": "390b71d9",
   "metadata": {},
   "outputs": [],
   "source": [
    "model = clf.fit(X=train.toarray(),y=sinif)"
   ]
  },
  {
   "cell_type": "code",
   "execution_count": 15,
   "id": "1863409d",
   "metadata": {},
   "outputs": [],
   "source": [
    "test_verisi = vektorzier.transform(['bu kadar kötü ürün görmedim'])"
   ]
  },
  {
   "cell_type": "code",
   "execution_count": 16,
   "id": "689cfd55",
   "metadata": {},
   "outputs": [],
   "source": [
    "y_pred=model.predict(test_verisi.toarray())"
   ]
  },
  {
   "cell_type": "code",
   "execution_count": 17,
   "id": "d3890c31",
   "metadata": {},
   "outputs": [
    {
     "name": "stdout",
     "output_type": "stream",
     "text": [
      "[0]\n"
     ]
    }
   ],
   "source": [
    "print(y_pred)"
   ]
  },
  {
   "cell_type": "code",
   "execution_count": 20,
   "id": "1d024b85",
   "metadata": {},
   "outputs": [
    {
     "name": "stdout",
     "output_type": "stream",
     "text": [
      "[[0.         0.         0.         0.         0.         0.\n",
      "  0.         0.         0.         0.         0.         0.\n",
      "  0.         0.         0.         0.         0.         0.\n",
      "  0.         0.         0.         0.         0.         0.\n",
      "  0.         0.         0.64768883 0.         0.         0.\n",
      "  0.         0.         0.         0.         0.         0.\n",
      "  0.         0.         0.         0.         0.         0.\n",
      "  0.         0.         0.         0.         0.         0.\n",
      "  0.         0.         0.         0.         0.         0.\n",
      "  0.         0.         0.         0.         0.         0.\n",
      "  0.         0.         0.         0.         0.         0.\n",
      "  0.         0.         0.         0.         0.         0.\n",
      "  0.         0.         0.         0.         0.         0.\n",
      "  0.         0.         0.         0.         0.         0.\n",
      "  0.76190497 0.         0.         0.         0.         0.\n",
      "  0.         0.         0.         0.         0.         0.\n",
      "  0.         0.         0.         0.         0.         0.\n",
      "  0.         0.         0.         0.         0.         0.\n",
      "  0.         0.         0.         0.         0.         0.\n",
      "  0.         0.         0.         0.         0.         0.\n",
      "  0.         0.         0.         0.         0.         0.\n",
      "  0.         0.         0.         0.         0.         0.\n",
      "  0.         0.         0.         0.         0.         0.\n",
      "  0.         0.         0.         0.         0.         0.\n",
      "  0.         0.         0.         0.         0.         0.\n",
      "  0.         0.         0.         0.         0.         0.\n",
      "  0.         0.         0.         0.         0.         0.\n",
      "  0.         0.         0.         0.         0.         0.\n",
      "  0.        ]]\n"
     ]
    }
   ],
   "source": [
    "test_verisi=vektorzier.transform(['iyi bir ürünmüş'])\n",
    "print(test_verisi.toarray())"
   ]
  },
  {
   "cell_type": "code",
   "execution_count": null,
   "id": "0177d2b1",
   "metadata": {},
   "outputs": [],
   "source": []
  }
 ],
 "metadata": {
  "kernelspec": {
   "display_name": "Python 3",
   "language": "python",
   "name": "python3"
  },
  "language_info": {
   "codemirror_mode": {
    "name": "ipython",
    "version": 3
   },
   "file_extension": ".py",
   "mimetype": "text/x-python",
   "name": "python",
   "nbconvert_exporter": "python",
   "pygments_lexer": "ipython3",
   "version": "3.8.8"
  }
 },
 "nbformat": 4,
 "nbformat_minor": 5
}
